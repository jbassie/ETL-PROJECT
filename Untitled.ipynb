{
 "cells": [
  {
   "cell_type": "code",
   "execution_count": 3,
   "metadata": {},
   "outputs": [],
   "source": [
    "#Importing Libraries\n",
    "import pandas as pd\n",
    "import numpy as np\n",
    "import names\n",
    "from faker import Faker\n",
    "import pandasql as ps\n",
    "import random\n",
    "import time\n",
    "from datetime import datetime"
   ]
  },
  {
   "cell_type": "code",
   "execution_count": 4,
   "metadata": {},
   "outputs": [],
   "source": [
    "#creating a simple func\n",
    "def sql(query):\n",
    "    return ps.sqldf(query)"
   ]
  },
  {
   "cell_type": "code",
   "execution_count": 5,
   "metadata": {},
   "outputs": [],
   "source": [
    "faker = Faker()"
   ]
  },
  {
   "cell_type": "code",
   "execution_count": 8,
   "metadata": {},
   "outputs": [],
   "source": [
    "#reading the data\n",
    "product_df = pd.read_csv('C:/Users/hp/Documents/GitHub/ETL-PROJECT-/data/all_data.csv')"
   ]
  },
  {
   "cell_type": "code",
   "execution_count": 11,
   "metadata": {},
   "outputs": [
    {
     "data": {
      "text/plain": [
       "Index(['Unnamed: 0', 'Product_name', 'Alcohol_amount', 'Alcohol_percent',\n",
       "       'Price', 'Category'],\n",
       "      dtype='object')"
      ]
     },
     "execution_count": 11,
     "metadata": {},
     "output_type": "execute_result"
    }
   ],
   "source": [
    "product_df.columns"
   ]
  },
  {
   "cell_type": "code",
   "execution_count": 12,
   "metadata": {},
   "outputs": [],
   "source": [
    "product_df.drop(columns = 'Unnamed: 0', inplace = True )"
   ]
  },
  {
   "cell_type": "code",
   "execution_count": 13,
   "metadata": {},
   "outputs": [
    {
     "data": {
      "text/html": [
       "<div>\n",
       "<style scoped>\n",
       "    .dataframe tbody tr th:only-of-type {\n",
       "        vertical-align: middle;\n",
       "    }\n",
       "\n",
       "    .dataframe tbody tr th {\n",
       "        vertical-align: top;\n",
       "    }\n",
       "\n",
       "    .dataframe thead th {\n",
       "        text-align: right;\n",
       "    }\n",
       "</style>\n",
       "<table border=\"1\" class=\"dataframe\">\n",
       "  <thead>\n",
       "    <tr style=\"text-align: right;\">\n",
       "      <th></th>\n",
       "      <th>Product_name</th>\n",
       "      <th>Alcohol_amount</th>\n",
       "      <th>Alcohol_percent</th>\n",
       "      <th>Price</th>\n",
       "      <th>Category</th>\n",
       "    </tr>\n",
       "  </thead>\n",
       "  <tbody>\n",
       "    <tr>\n",
       "      <th>0</th>\n",
       "      <td>Hine Rare VSOP Cognac</td>\n",
       "      <td>70.0</td>\n",
       "      <td>40.0</td>\n",
       "      <td>47.45</td>\n",
       "      <td>Cognac</td>\n",
       "    </tr>\n",
       "    <tr>\n",
       "      <th>1</th>\n",
       "      <td>Hennessy VSOP Privilege Cognac</td>\n",
       "      <td>70.0</td>\n",
       "      <td>40.0</td>\n",
       "      <td>54.95</td>\n",
       "      <td>Cognac</td>\n",
       "    </tr>\n",
       "    <tr>\n",
       "      <th>2</th>\n",
       "      <td>Hennessy XO Cognac</td>\n",
       "      <td>70.0</td>\n",
       "      <td>40.0</td>\n",
       "      <td>162</td>\n",
       "      <td>Cognac</td>\n",
       "    </tr>\n",
       "    <tr>\n",
       "      <th>3</th>\n",
       "      <td>Courvoisier XO Cognac</td>\n",
       "      <td>70.0</td>\n",
       "      <td>40.0</td>\n",
       "      <td>115</td>\n",
       "      <td>Cognac</td>\n",
       "    </tr>\n",
       "    <tr>\n",
       "      <th>4</th>\n",
       "      <td>Remy Martin 1738 Accord Royal Cognac</td>\n",
       "      <td>70.0</td>\n",
       "      <td>40.0</td>\n",
       "      <td>53.25</td>\n",
       "      <td>Cognac</td>\n",
       "    </tr>\n",
       "  </tbody>\n",
       "</table>\n",
       "</div>"
      ],
      "text/plain": [
       "                           Product_name  Alcohol_amount  Alcohol_percent  \\\n",
       "0                 Hine Rare VSOP Cognac            70.0             40.0   \n",
       "1        Hennessy VSOP Privilege Cognac            70.0             40.0   \n",
       "2                    Hennessy XO Cognac            70.0             40.0   \n",
       "3                 Courvoisier XO Cognac            70.0             40.0   \n",
       "4  Remy Martin 1738 Accord Royal Cognac            70.0             40.0   \n",
       "\n",
       "   Price Category  \n",
       "0  47.45   Cognac  \n",
       "1  54.95   Cognac  \n",
       "2    162   Cognac  \n",
       "3    115   Cognac  \n",
       "4  53.25   Cognac  "
      ]
     },
     "execution_count": 13,
     "metadata": {},
     "output_type": "execute_result"
    }
   ],
   "source": [
    "product_df.head()"
   ]
  },
  {
   "cell_type": "code",
   "execution_count": 14,
   "metadata": {},
   "outputs": [
    {
     "name": "stdout",
     "output_type": "stream",
     "text": [
      "<class 'pandas.core.frame.DataFrame'>\n",
      "RangeIndex: 2664 entries, 0 to 2663\n",
      "Data columns (total 5 columns):\n",
      " #   Column           Non-Null Count  Dtype  \n",
      "---  ------           --------------  -----  \n",
      " 0   Product_name     2664 non-null   object \n",
      " 1   Alcohol_amount   2664 non-null   float64\n",
      " 2   Alcohol_percent  2664 non-null   float64\n",
      " 3   Price            2664 non-null   object \n",
      " 4   Category         2664 non-null   object \n",
      "dtypes: float64(2), object(3)\n",
      "memory usage: 104.2+ KB\n"
     ]
    }
   ],
   "source": [
    "product_df.info()"
   ]
  },
  {
   "cell_type": "code",
   "execution_count": 15,
   "metadata": {},
   "outputs": [],
   "source": [
    "#Changing the alcohol price float\n",
    "product_df['Price'] = product_df.Price.str.replace(',', '').astype('float64')"
   ]
  },
  {
   "cell_type": "code",
   "execution_count": 23,
   "metadata": {},
   "outputs": [
    {
     "data": {
      "text/plain": [
       "True"
      ]
     },
     "execution_count": 23,
     "metadata": {},
     "output_type": "execute_result"
    }
   ],
   "source": [
    "#generate a column of unique prodcut id's\n",
    "product_id = np.random.default_rng().choice(len(product_df.Product_name), len(product_df.Product_name), replace = False)\n",
    "\n",
    "#verify that there are as amnt id's as there are products\n",
    "len(set(product_id)) == len(product_df.Product_name)"
   ]
  },
  {
   "cell_type": "code",
   "execution_count": 26,
   "metadata": {},
   "outputs": [],
   "source": [
    "#verify that the new id's are unique\n",
    "assert(len(pd.Series(product_id).unique()) == len(product_id))"
   ]
  },
  {
   "cell_type": "code",
   "execution_count": 27,
   "metadata": {},
   "outputs": [],
   "source": [
    "#Insert the new column into the DataFrame\n",
    "product_df['product_id'] = product_id"
   ]
  },
  {
   "cell_type": "code",
   "execution_count": 28,
   "metadata": {},
   "outputs": [
    {
     "data": {
      "text/html": [
       "<div>\n",
       "<style scoped>\n",
       "    .dataframe tbody tr th:only-of-type {\n",
       "        vertical-align: middle;\n",
       "    }\n",
       "\n",
       "    .dataframe tbody tr th {\n",
       "        vertical-align: top;\n",
       "    }\n",
       "\n",
       "    .dataframe thead th {\n",
       "        text-align: right;\n",
       "    }\n",
       "</style>\n",
       "<table border=\"1\" class=\"dataframe\">\n",
       "  <thead>\n",
       "    <tr style=\"text-align: right;\">\n",
       "      <th></th>\n",
       "      <th>Product_name</th>\n",
       "      <th>Alcohol_amount</th>\n",
       "      <th>Alcohol_percent</th>\n",
       "      <th>Price</th>\n",
       "      <th>Category</th>\n",
       "      <th>product_id</th>\n",
       "    </tr>\n",
       "  </thead>\n",
       "  <tbody>\n",
       "    <tr>\n",
       "      <th>0</th>\n",
       "      <td>Hine Rare VSOP Cognac</td>\n",
       "      <td>70.0</td>\n",
       "      <td>40.0</td>\n",
       "      <td>47.45</td>\n",
       "      <td>Cognac</td>\n",
       "      <td>2295</td>\n",
       "    </tr>\n",
       "    <tr>\n",
       "      <th>1</th>\n",
       "      <td>Hennessy VSOP Privilege Cognac</td>\n",
       "      <td>70.0</td>\n",
       "      <td>40.0</td>\n",
       "      <td>54.95</td>\n",
       "      <td>Cognac</td>\n",
       "      <td>1473</td>\n",
       "    </tr>\n",
       "    <tr>\n",
       "      <th>2</th>\n",
       "      <td>Hennessy XO Cognac</td>\n",
       "      <td>70.0</td>\n",
       "      <td>40.0</td>\n",
       "      <td>162.00</td>\n",
       "      <td>Cognac</td>\n",
       "      <td>2094</td>\n",
       "    </tr>\n",
       "    <tr>\n",
       "      <th>3</th>\n",
       "      <td>Courvoisier XO Cognac</td>\n",
       "      <td>70.0</td>\n",
       "      <td>40.0</td>\n",
       "      <td>115.00</td>\n",
       "      <td>Cognac</td>\n",
       "      <td>483</td>\n",
       "    </tr>\n",
       "    <tr>\n",
       "      <th>4</th>\n",
       "      <td>Remy Martin 1738 Accord Royal Cognac</td>\n",
       "      <td>70.0</td>\n",
       "      <td>40.0</td>\n",
       "      <td>53.25</td>\n",
       "      <td>Cognac</td>\n",
       "      <td>1437</td>\n",
       "    </tr>\n",
       "  </tbody>\n",
       "</table>\n",
       "</div>"
      ],
      "text/plain": [
       "                           Product_name  Alcohol_amount  Alcohol_percent  \\\n",
       "0                 Hine Rare VSOP Cognac            70.0             40.0   \n",
       "1        Hennessy VSOP Privilege Cognac            70.0             40.0   \n",
       "2                    Hennessy XO Cognac            70.0             40.0   \n",
       "3                 Courvoisier XO Cognac            70.0             40.0   \n",
       "4  Remy Martin 1738 Accord Royal Cognac            70.0             40.0   \n",
       "\n",
       "    Price Category  product_id  \n",
       "0   47.45   Cognac        2295  \n",
       "1   54.95   Cognac        1473  \n",
       "2  162.00   Cognac        2094  \n",
       "3  115.00   Cognac         483  \n",
       "4   53.25   Cognac        1437  "
      ]
     },
     "execution_count": 28,
     "metadata": {},
     "output_type": "execute_result"
    }
   ],
   "source": [
    "product_df.head()"
   ]
  },
  {
   "cell_type": "code",
   "execution_count": 29,
   "metadata": {},
   "outputs": [
    {
     "data": {
      "text/plain": [
       "0"
      ]
     },
     "execution_count": 29,
     "metadata": {},
     "output_type": "execute_result"
    }
   ],
   "source": [
    "product_df.duplicated().sum()"
   ]
  },
  {
   "cell_type": "markdown",
   "metadata": {},
   "source": [
    "### GENERATING EMPLOYYEE'S DATA"
   ]
  },
  {
   "cell_type": "code",
   "execution_count": 30,
   "metadata": {},
   "outputs": [],
   "source": [
    "#Generating 100 EMployee Uniques id's\n",
    "employee_id = np.random.default_rng().choice(4000, 100, replace = False)"
   ]
  },
  {
   "cell_type": "code",
   "execution_count": 32,
   "metadata": {},
   "outputs": [],
   "source": [
    "#Verify that there are as many ids as there are employees\n",
    "assert len(set(employee_id)) == 100"
   ]
  },
  {
   "cell_type": "code",
   "execution_count": 36,
   "metadata": {},
   "outputs": [],
   "source": [
    "#verify that the new ids are unique\n",
    "assert len(pd.Series(employee_id).unique()) == len(employee_id)"
   ]
  },
  {
   "cell_type": "code",
   "execution_count": 43,
   "metadata": {},
   "outputs": [],
   "source": [
    "#Generating 100 employee Data\n",
    "first_name = []\n",
    "last_name = []\n",
    "email = []\n",
    "city = []\n",
    "departments = ['Sales', 'Finance', 'Marketing', 'BI']\n",
    "employee_department = []\n",
    "\n",
    "# iterate through the emloyees and generate random data\n",
    "for i in range(len(employee_id)):\n",
    "    first_name.append(names.get_first_name())\n",
    "    last_name.append(names.get_last_name())\n",
    "    email.append(first_name[i].lower() +'.' + last_name[i].lower() + '@wsexng.com')\n",
    "    city.append(faker.city())\n",
    "    employee_department.append(np.random.choice(departments, 1)[0])"
   ]
  },
  {
   "cell_type": "code",
   "execution_count": 44,
   "metadata": {},
   "outputs": [],
   "source": [
    "# create and employee dataframe\n",
    "employee_df = pd.DataFrame(employee_id, columns = ['employee_id'])"
   ]
  },
  {
   "cell_type": "code",
   "execution_count": 45,
   "metadata": {},
   "outputs": [],
   "source": [
    "employee_df['first_name'] = first_name\n",
    "employee_df['last_name'] = last_name\n",
    "employee_df['email'] = email\n",
    "employee_df['city'] = city\n",
    "employee_df['department'] = employee_department"
   ]
  },
  {
   "cell_type": "code",
   "execution_count": 46,
   "metadata": {},
   "outputs": [
    {
     "data": {
      "text/html": [
       "<div>\n",
       "<style scoped>\n",
       "    .dataframe tbody tr th:only-of-type {\n",
       "        vertical-align: middle;\n",
       "    }\n",
       "\n",
       "    .dataframe tbody tr th {\n",
       "        vertical-align: top;\n",
       "    }\n",
       "\n",
       "    .dataframe thead th {\n",
       "        text-align: right;\n",
       "    }\n",
       "</style>\n",
       "<table border=\"1\" class=\"dataframe\">\n",
       "  <thead>\n",
       "    <tr style=\"text-align: right;\">\n",
       "      <th></th>\n",
       "      <th>employee_id</th>\n",
       "      <th>first_name</th>\n",
       "      <th>last_name</th>\n",
       "      <th>email</th>\n",
       "      <th>city</th>\n",
       "      <th>department</th>\n",
       "    </tr>\n",
       "  </thead>\n",
       "  <tbody>\n",
       "    <tr>\n",
       "      <th>0</th>\n",
       "      <td>407</td>\n",
       "      <td>William</td>\n",
       "      <td>Merrell</td>\n",
       "      <td>william.merrell@wsexng.com</td>\n",
       "      <td>Karenberg</td>\n",
       "      <td>Finance</td>\n",
       "    </tr>\n",
       "    <tr>\n",
       "      <th>1</th>\n",
       "      <td>3645</td>\n",
       "      <td>Bruce</td>\n",
       "      <td>Matthews</td>\n",
       "      <td>bruce.matthews@wsexng.com</td>\n",
       "      <td>Petersfort</td>\n",
       "      <td>BI</td>\n",
       "    </tr>\n",
       "    <tr>\n",
       "      <th>2</th>\n",
       "      <td>3962</td>\n",
       "      <td>Tracy</td>\n",
       "      <td>Vega</td>\n",
       "      <td>tracy.vega@wsexng.com</td>\n",
       "      <td>Phillipston</td>\n",
       "      <td>Marketing</td>\n",
       "    </tr>\n",
       "    <tr>\n",
       "      <th>3</th>\n",
       "      <td>3420</td>\n",
       "      <td>Dewey</td>\n",
       "      <td>Landry</td>\n",
       "      <td>dewey.landry@wsexng.com</td>\n",
       "      <td>Wiseborough</td>\n",
       "      <td>Finance</td>\n",
       "    </tr>\n",
       "    <tr>\n",
       "      <th>4</th>\n",
       "      <td>2549</td>\n",
       "      <td>Betsy</td>\n",
       "      <td>Harrell</td>\n",
       "      <td>betsy.harrell@wsexng.com</td>\n",
       "      <td>East Brent</td>\n",
       "      <td>Finance</td>\n",
       "    </tr>\n",
       "  </tbody>\n",
       "</table>\n",
       "</div>"
      ],
      "text/plain": [
       "   employee_id first_name last_name                       email         city  \\\n",
       "0          407    William   Merrell  william.merrell@wsexng.com    Karenberg   \n",
       "1         3645      Bruce  Matthews   bruce.matthews@wsexng.com   Petersfort   \n",
       "2         3962      Tracy      Vega       tracy.vega@wsexng.com  Phillipston   \n",
       "3         3420      Dewey    Landry     dewey.landry@wsexng.com  Wiseborough   \n",
       "4         2549      Betsy   Harrell    betsy.harrell@wsexng.com   East Brent   \n",
       "\n",
       "  department  \n",
       "0    Finance  \n",
       "1         BI  \n",
       "2  Marketing  \n",
       "3    Finance  \n",
       "4    Finance  "
      ]
     },
     "execution_count": 46,
     "metadata": {},
     "output_type": "execute_result"
    }
   ],
   "source": [
    "employee_df.head()"
   ]
  },
  {
   "cell_type": "markdown",
   "metadata": {},
   "source": [
    "#### GENERATING CUSTOMER DATA"
   ]
  },
  {
   "cell_type": "code",
   "execution_count": 49,
   "metadata": {},
   "outputs": [],
   "source": [
    "#Generating 1000 customer Unique id's\n",
    "customer_id = np.random.default_rng().choice(99999, 1000, replace =False)\n",
    "\n",
    "#Verify thta there are as many id's as there are customers\n",
    "assert len(set(customer_id)) == 1000\n",
    "\n",
    "#Verify that the new ids are unique\n",
    "assert len(pd.Series(customer_id).unique())"
   ]
  },
  {
   "cell_type": "code",
   "execution_count": 52,
   "metadata": {},
   "outputs": [],
   "source": [
    "cus_first_name = []\n",
    "cus_last_name = []\n",
    "cus_email = []\n",
    "cus_city = []\n",
    "cus_last_four_digit = []\n",
    "cus_country = []\n",
    "cus_country_code = []\n",
    "cus_street = []\n",
    "cus_credit_card_company = []\n",
    "\n",
    "# iterate throught the customers and generate random data\n",
    "for i in range(len(customer_id)):\n",
    "    cus_first_name.append(names.get_first_name())\n",
    "    cus_last_name.append(names.get_last_name())\n",
    "    cus_email.append(cus_first_name[i].lower() + '.' + cus_last_name[i].lower() + '@gmail.com')\n",
    "    cus_last_four_digit.append(np.random.randint(low = 1000, high = 9999, size = 1)[0])\n",
    "    cus_country.append(faker.country())\n",
    "    cus_country_code.append(faker.street_address())\n",
    "    cus_credit_card_company.append(faker.credit_card_provider())\n",
    "    "
   ]
  },
  {
   "cell_type": "code",
   "execution_count": null,
   "metadata": {},
   "outputs": [],
   "source": [
    "customer_df = pd.DataFrame(cus)"
   ]
  }
 ],
 "metadata": {
  "kernelspec": {
   "display_name": "Python 3",
   "language": "python",
   "name": "python3"
  },
  "language_info": {
   "codemirror_mode": {
    "name": "ipython",
    "version": 3
   },
   "file_extension": ".py",
   "mimetype": "text/x-python",
   "name": "python",
   "nbconvert_exporter": "python",
   "pygments_lexer": "ipython3",
   "version": "3.8.5"
  }
 },
 "nbformat": 4,
 "nbformat_minor": 4
}
