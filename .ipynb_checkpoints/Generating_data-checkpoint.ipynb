{
 "cells": [
  {
   "cell_type": "code",
   "execution_count": 3,
   "metadata": {},
   "outputs": [],
   "source": [
    "#Importing Libraries\n",
    "import pandas as pd\n",
    "import numpy as np\n",
    "import names\n",
    "from faker import Faker\n",
    "import pandasql as ps\n",
    "import random\n",
    "import time\n",
    "from datetime import datetime"
   ]
  },
  {
   "cell_type": "code",
   "execution_count": 4,
   "metadata": {},
   "outputs": [],
   "source": [
    "#creating a simple func\n",
    "def sql(query):\n",
    "    return ps.sqldf(query)"
   ]
  },
  {
   "cell_type": "code",
   "execution_count": 5,
   "metadata": {},
   "outputs": [],
   "source": [
    "faker = Faker()"
   ]
  },
  {
   "cell_type": "code",
   "execution_count": 8,
   "metadata": {},
   "outputs": [],
   "source": [
    "#reading the data\n",
    "product_df = pd.read_csv('C:/Users/hp/Documents/GitHub/ETL-PROJECT-/data/all_data.csv')"
   ]
  },
  {
   "cell_type": "code",
   "execution_count": 11,
   "metadata": {},
   "outputs": [
    {
     "data": {
      "text/plain": [
       "Index(['Unnamed: 0', 'Product_name', 'Alcohol_amount', 'Alcohol_percent',\n",
       "       'Price', 'Category'],\n",
       "      dtype='object')"
      ]
     },
     "execution_count": 11,
     "metadata": {},
     "output_type": "execute_result"
    }
   ],
   "source": [
    "product_df.columns"
   ]
  },
  {
   "cell_type": "code",
   "execution_count": 12,
   "metadata": {},
   "outputs": [],
   "source": [
    "product_df.drop(columns = 'Unnamed: 0', inplace = True )"
   ]
  },
  {
   "cell_type": "code",
   "execution_count": 13,
   "metadata": {},
   "outputs": [
    {
     "data": {
      "text/html": [
       "<div>\n",
       "<style scoped>\n",
       "    .dataframe tbody tr th:only-of-type {\n",
       "        vertical-align: middle;\n",
       "    }\n",
       "\n",
       "    .dataframe tbody tr th {\n",
       "        vertical-align: top;\n",
       "    }\n",
       "\n",
       "    .dataframe thead th {\n",
       "        text-align: right;\n",
       "    }\n",
       "</style>\n",
       "<table border=\"1\" class=\"dataframe\">\n",
       "  <thead>\n",
       "    <tr style=\"text-align: right;\">\n",
       "      <th></th>\n",
       "      <th>Product_name</th>\n",
       "      <th>Alcohol_amount</th>\n",
       "      <th>Alcohol_percent</th>\n",
       "      <th>Price</th>\n",
       "      <th>Category</th>\n",
       "    </tr>\n",
       "  </thead>\n",
       "  <tbody>\n",
       "    <tr>\n",
       "      <th>0</th>\n",
       "      <td>Hine Rare VSOP Cognac</td>\n",
       "      <td>70.0</td>\n",
       "      <td>40.0</td>\n",
       "      <td>47.45</td>\n",
       "      <td>Cognac</td>\n",
       "    </tr>\n",
       "    <tr>\n",
       "      <th>1</th>\n",
       "      <td>Hennessy VSOP Privilege Cognac</td>\n",
       "      <td>70.0</td>\n",
       "      <td>40.0</td>\n",
       "      <td>54.95</td>\n",
       "      <td>Cognac</td>\n",
       "    </tr>\n",
       "    <tr>\n",
       "      <th>2</th>\n",
       "      <td>Hennessy XO Cognac</td>\n",
       "      <td>70.0</td>\n",
       "      <td>40.0</td>\n",
       "      <td>162</td>\n",
       "      <td>Cognac</td>\n",
       "    </tr>\n",
       "    <tr>\n",
       "      <th>3</th>\n",
       "      <td>Courvoisier XO Cognac</td>\n",
       "      <td>70.0</td>\n",
       "      <td>40.0</td>\n",
       "      <td>115</td>\n",
       "      <td>Cognac</td>\n",
       "    </tr>\n",
       "    <tr>\n",
       "      <th>4</th>\n",
       "      <td>Remy Martin 1738 Accord Royal Cognac</td>\n",
       "      <td>70.0</td>\n",
       "      <td>40.0</td>\n",
       "      <td>53.25</td>\n",
       "      <td>Cognac</td>\n",
       "    </tr>\n",
       "  </tbody>\n",
       "</table>\n",
       "</div>"
      ],
      "text/plain": [
       "                           Product_name  Alcohol_amount  Alcohol_percent  \\\n",
       "0                 Hine Rare VSOP Cognac            70.0             40.0   \n",
       "1        Hennessy VSOP Privilege Cognac            70.0             40.0   \n",
       "2                    Hennessy XO Cognac            70.0             40.0   \n",
       "3                 Courvoisier XO Cognac            70.0             40.0   \n",
       "4  Remy Martin 1738 Accord Royal Cognac            70.0             40.0   \n",
       "\n",
       "   Price Category  \n",
       "0  47.45   Cognac  \n",
       "1  54.95   Cognac  \n",
       "2    162   Cognac  \n",
       "3    115   Cognac  \n",
       "4  53.25   Cognac  "
      ]
     },
     "execution_count": 13,
     "metadata": {},
     "output_type": "execute_result"
    }
   ],
   "source": [
    "product_df.head()"
   ]
  },
  {
   "cell_type": "code",
   "execution_count": 14,
   "metadata": {},
   "outputs": [
    {
     "name": "stdout",
     "output_type": "stream",
     "text": [
      "<class 'pandas.core.frame.DataFrame'>\n",
      "RangeIndex: 2664 entries, 0 to 2663\n",
      "Data columns (total 5 columns):\n",
      " #   Column           Non-Null Count  Dtype  \n",
      "---  ------           --------------  -----  \n",
      " 0   Product_name     2664 non-null   object \n",
      " 1   Alcohol_amount   2664 non-null   float64\n",
      " 2   Alcohol_percent  2664 non-null   float64\n",
      " 3   Price            2664 non-null   object \n",
      " 4   Category         2664 non-null   object \n",
      "dtypes: float64(2), object(3)\n",
      "memory usage: 104.2+ KB\n"
     ]
    }
   ],
   "source": [
    "product_df.info()"
   ]
  },
  {
   "cell_type": "code",
   "execution_count": 15,
   "metadata": {},
   "outputs": [],
   "source": [
    "#Changing the alcohol price float\n",
    "product_df['Price'] = product_df.Price.str.replace(',', '').astype('float64')"
   ]
  },
  {
   "cell_type": "code",
   "execution_count": 23,
   "metadata": {},
   "outputs": [
    {
     "data": {
      "text/plain": [
       "True"
      ]
     },
     "execution_count": 23,
     "metadata": {},
     "output_type": "execute_result"
    }
   ],
   "source": [
    "#generate a column of unique prodcut id's\n",
    "product_id = np.random.default_rng().choice(len(product_df.Product_name), len(product_df.Product_name), replace = False)\n",
    "\n",
    "#verify that there are as amnt id's as there are products\n",
    "len(set(product_id)) == len(product_df.Product_name)"
   ]
  },
  {
   "cell_type": "code",
   "execution_count": 26,
   "metadata": {},
   "outputs": [],
   "source": [
    "#verify that the new id's are unique\n",
    "assert(len(pd.Series(product_id).unique()) == len(product_id))"
   ]
  },
  {
   "cell_type": "code",
   "execution_count": 27,
   "metadata": {},
   "outputs": [],
   "source": [
    "#Insert the new column into the DataFrame\n",
    "product_df['product_id'] = product_id"
   ]
  },
  {
   "cell_type": "code",
   "execution_count": 28,
   "metadata": {},
   "outputs": [
    {
     "data": {
      "text/html": [
       "<div>\n",
       "<style scoped>\n",
       "    .dataframe tbody tr th:only-of-type {\n",
       "        vertical-align: middle;\n",
       "    }\n",
       "\n",
       "    .dataframe tbody tr th {\n",
       "        vertical-align: top;\n",
       "    }\n",
       "\n",
       "    .dataframe thead th {\n",
       "        text-align: right;\n",
       "    }\n",
       "</style>\n",
       "<table border=\"1\" class=\"dataframe\">\n",
       "  <thead>\n",
       "    <tr style=\"text-align: right;\">\n",
       "      <th></th>\n",
       "      <th>Product_name</th>\n",
       "      <th>Alcohol_amount</th>\n",
       "      <th>Alcohol_percent</th>\n",
       "      <th>Price</th>\n",
       "      <th>Category</th>\n",
       "      <th>product_id</th>\n",
       "    </tr>\n",
       "  </thead>\n",
       "  <tbody>\n",
       "    <tr>\n",
       "      <th>0</th>\n",
       "      <td>Hine Rare VSOP Cognac</td>\n",
       "      <td>70.0</td>\n",
       "      <td>40.0</td>\n",
       "      <td>47.45</td>\n",
       "      <td>Cognac</td>\n",
       "      <td>2295</td>\n",
       "    </tr>\n",
       "    <tr>\n",
       "      <th>1</th>\n",
       "      <td>Hennessy VSOP Privilege Cognac</td>\n",
       "      <td>70.0</td>\n",
       "      <td>40.0</td>\n",
       "      <td>54.95</td>\n",
       "      <td>Cognac</td>\n",
       "      <td>1473</td>\n",
       "    </tr>\n",
       "    <tr>\n",
       "      <th>2</th>\n",
       "      <td>Hennessy XO Cognac</td>\n",
       "      <td>70.0</td>\n",
       "      <td>40.0</td>\n",
       "      <td>162.00</td>\n",
       "      <td>Cognac</td>\n",
       "      <td>2094</td>\n",
       "    </tr>\n",
       "    <tr>\n",
       "      <th>3</th>\n",
       "      <td>Courvoisier XO Cognac</td>\n",
       "      <td>70.0</td>\n",
       "      <td>40.0</td>\n",
       "      <td>115.00</td>\n",
       "      <td>Cognac</td>\n",
       "      <td>483</td>\n",
       "    </tr>\n",
       "    <tr>\n",
       "      <th>4</th>\n",
       "      <td>Remy Martin 1738 Accord Royal Cognac</td>\n",
       "      <td>70.0</td>\n",
       "      <td>40.0</td>\n",
       "      <td>53.25</td>\n",
       "      <td>Cognac</td>\n",
       "      <td>1437</td>\n",
       "    </tr>\n",
       "  </tbody>\n",
       "</table>\n",
       "</div>"
      ],
      "text/plain": [
       "                           Product_name  Alcohol_amount  Alcohol_percent  \\\n",
       "0                 Hine Rare VSOP Cognac            70.0             40.0   \n",
       "1        Hennessy VSOP Privilege Cognac            70.0             40.0   \n",
       "2                    Hennessy XO Cognac            70.0             40.0   \n",
       "3                 Courvoisier XO Cognac            70.0             40.0   \n",
       "4  Remy Martin 1738 Accord Royal Cognac            70.0             40.0   \n",
       "\n",
       "    Price Category  product_id  \n",
       "0   47.45   Cognac        2295  \n",
       "1   54.95   Cognac        1473  \n",
       "2  162.00   Cognac        2094  \n",
       "3  115.00   Cognac         483  \n",
       "4   53.25   Cognac        1437  "
      ]
     },
     "execution_count": 28,
     "metadata": {},
     "output_type": "execute_result"
    }
   ],
   "source": [
    "product_df.head()"
   ]
  },
  {
   "cell_type": "code",
   "execution_count": 29,
   "metadata": {},
   "outputs": [
    {
     "data": {
      "text/plain": [
       "0"
      ]
     },
     "execution_count": 29,
     "metadata": {},
     "output_type": "execute_result"
    }
   ],
   "source": [
    "product_df.duplicated().sum()"
   ]
  },
  {
   "cell_type": "markdown",
   "metadata": {},
   "source": [
    "### GENERATING EMPLOYYEE'S DATA"
   ]
  },
  {
   "cell_type": "code",
   "execution_count": 30,
   "metadata": {},
   "outputs": [],
   "source": [
    "#Generating 100 EMployee Uniques id's\n",
    "employee_id = np.random.default_rng().choice(4000, 100, replace = False)"
   ]
  },
  {
   "cell_type": "code",
   "execution_count": 32,
   "metadata": {},
   "outputs": [],
   "source": [
    "#Verify that there are as many ids as there are employees\n",
    "assert len(set(employee_id)) == 100"
   ]
  },
  {
   "cell_type": "code",
   "execution_count": 36,
   "metadata": {},
   "outputs": [],
   "source": [
    "#verify that the new ids are unique\n",
    "assert len(pd.Series(employee_id).unique()) == len(employee_id)"
   ]
  },
  {
   "cell_type": "code",
   "execution_count": 43,
   "metadata": {},
   "outputs": [],
   "source": [
    "#Generating 100 employee Data\n",
    "first_name = []\n",
    "last_name = []\n",
    "email = []\n",
    "city = []\n",
    "departments = ['Sales', 'Finance', 'Marketing', 'BI']\n",
    "employee_department = []\n",
    "\n",
    "# iterate through the emloyees and generate random data\n",
    "for i in range(len(employee_id)):\n",
    "    first_name.append(names.get_first_name())\n",
    "    last_name.append(names.get_last_name())\n",
    "    email.append(first_name[i].lower() +'.' + last_name[i].lower() + '@wsexng.com')\n",
    "    city.append(faker.city())\n",
    "    employee_department.append(np.random.choice(departments, 1)[0])"
   ]
  },
  {
   "cell_type": "code",
   "execution_count": 44,
   "metadata": {},
   "outputs": [],
   "source": [
    "# create and employee dataframe\n",
    "employee_df = pd.DataFrame(employee_id, columns = ['employee_id'])"
   ]
  },
  {
   "cell_type": "code",
   "execution_count": 45,
   "metadata": {},
   "outputs": [],
   "source": [
    "employee_df['first_name'] = first_name\n",
    "employee_df['last_name'] = last_name\n",
    "employee_df['email'] = email\n",
    "employee_df['city'] = city\n",
    "employee_df['department'] = employee_department"
   ]
  },
  {
   "cell_type": "code",
   "execution_count": 46,
   "metadata": {},
   "outputs": [
    {
     "data": {
      "text/html": [
       "<div>\n",
       "<style scoped>\n",
       "    .dataframe tbody tr th:only-of-type {\n",
       "        vertical-align: middle;\n",
       "    }\n",
       "\n",
       "    .dataframe tbody tr th {\n",
       "        vertical-align: top;\n",
       "    }\n",
       "\n",
       "    .dataframe thead th {\n",
       "        text-align: right;\n",
       "    }\n",
       "</style>\n",
       "<table border=\"1\" class=\"dataframe\">\n",
       "  <thead>\n",
       "    <tr style=\"text-align: right;\">\n",
       "      <th></th>\n",
       "      <th>employee_id</th>\n",
       "      <th>first_name</th>\n",
       "      <th>last_name</th>\n",
       "      <th>email</th>\n",
       "      <th>city</th>\n",
       "      <th>department</th>\n",
       "    </tr>\n",
       "  </thead>\n",
       "  <tbody>\n",
       "    <tr>\n",
       "      <th>0</th>\n",
       "      <td>407</td>\n",
       "      <td>William</td>\n",
       "      <td>Merrell</td>\n",
       "      <td>william.merrell@wsexng.com</td>\n",
       "      <td>Karenberg</td>\n",
       "      <td>Finance</td>\n",
       "    </tr>\n",
       "    <tr>\n",
       "      <th>1</th>\n",
       "      <td>3645</td>\n",
       "      <td>Bruce</td>\n",
       "      <td>Matthews</td>\n",
       "      <td>bruce.matthews@wsexng.com</td>\n",
       "      <td>Petersfort</td>\n",
       "      <td>BI</td>\n",
       "    </tr>\n",
       "    <tr>\n",
       "      <th>2</th>\n",
       "      <td>3962</td>\n",
       "      <td>Tracy</td>\n",
       "      <td>Vega</td>\n",
       "      <td>tracy.vega@wsexng.com</td>\n",
       "      <td>Phillipston</td>\n",
       "      <td>Marketing</td>\n",
       "    </tr>\n",
       "    <tr>\n",
       "      <th>3</th>\n",
       "      <td>3420</td>\n",
       "      <td>Dewey</td>\n",
       "      <td>Landry</td>\n",
       "      <td>dewey.landry@wsexng.com</td>\n",
       "      <td>Wiseborough</td>\n",
       "      <td>Finance</td>\n",
       "    </tr>\n",
       "    <tr>\n",
       "      <th>4</th>\n",
       "      <td>2549</td>\n",
       "      <td>Betsy</td>\n",
       "      <td>Harrell</td>\n",
       "      <td>betsy.harrell@wsexng.com</td>\n",
       "      <td>East Brent</td>\n",
       "      <td>Finance</td>\n",
       "    </tr>\n",
       "  </tbody>\n",
       "</table>\n",
       "</div>"
      ],
      "text/plain": [
       "   employee_id first_name last_name                       email         city  \\\n",
       "0          407    William   Merrell  william.merrell@wsexng.com    Karenberg   \n",
       "1         3645      Bruce  Matthews   bruce.matthews@wsexng.com   Petersfort   \n",
       "2         3962      Tracy      Vega       tracy.vega@wsexng.com  Phillipston   \n",
       "3         3420      Dewey    Landry     dewey.landry@wsexng.com  Wiseborough   \n",
       "4         2549      Betsy   Harrell    betsy.harrell@wsexng.com   East Brent   \n",
       "\n",
       "  department  \n",
       "0    Finance  \n",
       "1         BI  \n",
       "2  Marketing  \n",
       "3    Finance  \n",
       "4    Finance  "
      ]
     },
     "execution_count": 46,
     "metadata": {},
     "output_type": "execute_result"
    }
   ],
   "source": [
    "employee_df.head()"
   ]
  },
  {
   "cell_type": "markdown",
   "metadata": {},
   "source": [
    "#### GENERATING CUSTOMER DATA"
   ]
  },
  {
   "cell_type": "code",
   "execution_count": 49,
   "metadata": {},
   "outputs": [],
   "source": [
    "#Generating 1000 customer Unique id's\n",
    "customer_id = np.random.default_rng().choice(99999, 1000, replace =False)\n",
    "\n",
    "#Verify thta there are as many id's as there are customers\n",
    "assert len(set(customer_id)) == 1000\n",
    "\n",
    "#Verify that the new ids are unique\n",
    "assert len(pd.Series(customer_id).unique())"
   ]
  },
  {
   "cell_type": "code",
   "execution_count": 54,
   "metadata": {},
   "outputs": [],
   "source": [
    "cus_first_name = []\n",
    "cus_last_name = []\n",
    "cus_email = []\n",
    "cus_city = []\n",
    "cus_last_four_digit = []\n",
    "cus_country = []\n",
    "cus_country_code = []\n",
    "cus_street = []\n",
    "cus_credit_card_company = []\n",
    "\n",
    "# iterate throught the customers and generate random data\n",
    "for i in range(len(customer_id)):\n",
    "    cus_first_name.append(names.get_first_name())\n",
    "    cus_last_name.append(names.get_last_name())\n",
    "    cus_email.append(cus_first_name[i].lower() + '.' + cus_last_name[i].lower() + '@gmail.com')\n",
    "    cus_last_four_digit.append(np.random.randint(low = 1000, high = 9999, size = 1)[0])\n",
    "    cus_country.append(faker.country())\n",
    "    cus_country_code.append(cus_country[i][0:3].upper())\n",
    "    cus_credit_card_company.append(faker.credit_card_provider())\n",
    "    cus_street.append(faker.street_address())"
   ]
  },
  {
   "cell_type": "code",
   "execution_count": 55,
   "metadata": {},
   "outputs": [],
   "source": [
    "customer_df = pd.DataFrame(customer_id, columns = ['customer_id'])\n",
    "customer_df['first_name'] = cus_first_name\n",
    "customer_df['last_name'] = cus_last_name\n",
    "customer_df['email'] = cus_email\n",
    "customer_df['country'] = cus_country\n",
    "customer_df['country_code'] = cus_country_code\n",
    "customer_df['street'] = cus_street\n",
    "customer_df['credit_provider'] = cus_credit_card_company\n",
    "customer_df['four_digit'] = cus_last_four_digit"
   ]
  },
  {
   "cell_type": "code",
   "execution_count": 56,
   "metadata": {},
   "outputs": [
    {
     "data": {
      "text/html": [
       "<div>\n",
       "<style scoped>\n",
       "    .dataframe tbody tr th:only-of-type {\n",
       "        vertical-align: middle;\n",
       "    }\n",
       "\n",
       "    .dataframe tbody tr th {\n",
       "        vertical-align: top;\n",
       "    }\n",
       "\n",
       "    .dataframe thead th {\n",
       "        text-align: right;\n",
       "    }\n",
       "</style>\n",
       "<table border=\"1\" class=\"dataframe\">\n",
       "  <thead>\n",
       "    <tr style=\"text-align: right;\">\n",
       "      <th></th>\n",
       "      <th>customer_id</th>\n",
       "      <th>first_name</th>\n",
       "      <th>last_name</th>\n",
       "      <th>email</th>\n",
       "      <th>country</th>\n",
       "      <th>country_code</th>\n",
       "      <th>street</th>\n",
       "      <th>credit_provider</th>\n",
       "      <th>four_digit</th>\n",
       "    </tr>\n",
       "  </thead>\n",
       "  <tbody>\n",
       "    <tr>\n",
       "      <th>0</th>\n",
       "      <td>57226</td>\n",
       "      <td>Stephanie</td>\n",
       "      <td>Abell</td>\n",
       "      <td>stephanie.abell@gmail.com</td>\n",
       "      <td>Mozambique</td>\n",
       "      <td>MOZ</td>\n",
       "      <td>59947 Erin Hill Apt. 495</td>\n",
       "      <td>Maestro</td>\n",
       "      <td>5333</td>\n",
       "    </tr>\n",
       "    <tr>\n",
       "      <th>1</th>\n",
       "      <td>44043</td>\n",
       "      <td>Patricia</td>\n",
       "      <td>Erickson</td>\n",
       "      <td>patricia.erickson@gmail.com</td>\n",
       "      <td>Equatorial Guinea</td>\n",
       "      <td>EQU</td>\n",
       "      <td>346 Joshua Gardens</td>\n",
       "      <td>American Express</td>\n",
       "      <td>8504</td>\n",
       "    </tr>\n",
       "    <tr>\n",
       "      <th>2</th>\n",
       "      <td>83805</td>\n",
       "      <td>Carl</td>\n",
       "      <td>Suggs</td>\n",
       "      <td>carl.suggs@gmail.com</td>\n",
       "      <td>Czech Republic</td>\n",
       "      <td>CZE</td>\n",
       "      <td>4056 Johnson Groves</td>\n",
       "      <td>Diners Club / Carte Blanche</td>\n",
       "      <td>9577</td>\n",
       "    </tr>\n",
       "    <tr>\n",
       "      <th>3</th>\n",
       "      <td>80042</td>\n",
       "      <td>Brittny</td>\n",
       "      <td>James</td>\n",
       "      <td>brittny.james@gmail.com</td>\n",
       "      <td>Reunion</td>\n",
       "      <td>REU</td>\n",
       "      <td>9955 Paul Flats Suite 306</td>\n",
       "      <td>Discover</td>\n",
       "      <td>7751</td>\n",
       "    </tr>\n",
       "    <tr>\n",
       "      <th>4</th>\n",
       "      <td>68043</td>\n",
       "      <td>Myrtle</td>\n",
       "      <td>Thurlow</td>\n",
       "      <td>myrtle.thurlow@gmail.com</td>\n",
       "      <td>Peru</td>\n",
       "      <td>PER</td>\n",
       "      <td>759 Shawn Fort</td>\n",
       "      <td>JCB 15 digit</td>\n",
       "      <td>2822</td>\n",
       "    </tr>\n",
       "  </tbody>\n",
       "</table>\n",
       "</div>"
      ],
      "text/plain": [
       "   customer_id first_name last_name                        email  \\\n",
       "0        57226  Stephanie     Abell    stephanie.abell@gmail.com   \n",
       "1        44043   Patricia  Erickson  patricia.erickson@gmail.com   \n",
       "2        83805       Carl     Suggs         carl.suggs@gmail.com   \n",
       "3        80042    Brittny     James      brittny.james@gmail.com   \n",
       "4        68043     Myrtle   Thurlow     myrtle.thurlow@gmail.com   \n",
       "\n",
       "             country country_code                     street  \\\n",
       "0         Mozambique          MOZ   59947 Erin Hill Apt. 495   \n",
       "1  Equatorial Guinea          EQU         346 Joshua Gardens   \n",
       "2     Czech Republic          CZE        4056 Johnson Groves   \n",
       "3            Reunion          REU  9955 Paul Flats Suite 306   \n",
       "4               Peru          PER             759 Shawn Fort   \n",
       "\n",
       "               credit_provider  four_digit  \n",
       "0                      Maestro        5333  \n",
       "1             American Express        8504  \n",
       "2  Diners Club / Carte Blanche        9577  \n",
       "3                     Discover        7751  \n",
       "4                 JCB 15 digit        2822  "
      ]
     },
     "execution_count": 56,
     "metadata": {},
     "output_type": "execute_result"
    }
   ],
   "source": [
    "customer_df.head()"
   ]
  },
  {
   "cell_type": "markdown",
   "metadata": {},
   "source": [
    "### GENERATING PAYEMENTS DATA"
   ]
  },
  {
   "cell_type": "code",
   "execution_count": 58,
   "metadata": {},
   "outputs": [],
   "source": [
    "#Geneating a random days in the range of 2005 to 2022\n",
    "date_range = pd.date_range(start = \"2005-01-01\", end = '2022-05-31')"
   ]
  },
  {
   "cell_type": "code",
   "execution_count": 62,
   "metadata": {},
   "outputs": [],
   "source": [
    "#Generating unique payement id's\n",
    "payment_id = np.random.default_rng().choice(9999999, len(date_range), replace = False)"
   ]
  },
  {
   "cell_type": "code",
   "execution_count": 63,
   "metadata": {},
   "outputs": [],
   "source": [
    "#verify that theres are as many ids as there are dates\n",
    "assert len(set(payement_id)) == len(date_range)"
   ]
  },
  {
   "cell_type": "code",
   "execution_count": 64,
   "metadata": {},
   "outputs": [],
   "source": [
    "#verify that the ids are unique\n",
    "assert len(pd.Series(payment_id).unique() == len(payment_id))"
   ]
  },
  {
   "cell_type": "code",
   "execution_count": 68,
   "metadata": {},
   "outputs": [],
   "source": [
    "cus_payment = []\n",
    "emp_payment = []\n",
    "prd_payment = []\n",
    "dates = []\n",
    "\n",
    "for i in range(len(payment_id)):\n",
    "    dates.append(datetime.strftime(random.choice(date_range), format = '%Y-%m-%d'))\n",
    "    cus_payment.append(random.choice(customer_id))\n",
    "    emp_payment.append(random.choice(employee_id))\n",
    "    prd_payment.append(random.choice(product_id))"
   ]
  },
  {
   "cell_type": "code",
   "execution_count": 70,
   "metadata": {},
   "outputs": [],
   "source": [
    "payment_df = pd.DataFrame(payment_id, columns = ['payment_id'])\n",
    "payment_df['date'] = sorted(dates)\n",
    "payment_df['customer_id'] = cus_payment\n",
    "payment_df['employee_id'] = emp_payment\n",
    "payment_df['product_id']=prd_payment"
   ]
  },
  {
   "cell_type": "code",
   "execution_count": 71,
   "metadata": {},
   "outputs": [
    {
     "data": {
      "text/html": [
       "<div>\n",
       "<style scoped>\n",
       "    .dataframe tbody tr th:only-of-type {\n",
       "        vertical-align: middle;\n",
       "    }\n",
       "\n",
       "    .dataframe tbody tr th {\n",
       "        vertical-align: top;\n",
       "    }\n",
       "\n",
       "    .dataframe thead th {\n",
       "        text-align: right;\n",
       "    }\n",
       "</style>\n",
       "<table border=\"1\" class=\"dataframe\">\n",
       "  <thead>\n",
       "    <tr style=\"text-align: right;\">\n",
       "      <th></th>\n",
       "      <th>payment_id</th>\n",
       "      <th>date</th>\n",
       "      <th>customer_id</th>\n",
       "      <th>employee_id</th>\n",
       "      <th>product_id</th>\n",
       "    </tr>\n",
       "  </thead>\n",
       "  <tbody>\n",
       "    <tr>\n",
       "      <th>0</th>\n",
       "      <td>8906138</td>\n",
       "      <td>2005-01-01</td>\n",
       "      <td>85480</td>\n",
       "      <td>3796</td>\n",
       "      <td>572</td>\n",
       "    </tr>\n",
       "    <tr>\n",
       "      <th>1</th>\n",
       "      <td>2599735</td>\n",
       "      <td>2005-01-02</td>\n",
       "      <td>39288</td>\n",
       "      <td>1162</td>\n",
       "      <td>1593</td>\n",
       "    </tr>\n",
       "    <tr>\n",
       "      <th>2</th>\n",
       "      <td>6679790</td>\n",
       "      <td>2005-01-03</td>\n",
       "      <td>99421</td>\n",
       "      <td>3383</td>\n",
       "      <td>937</td>\n",
       "    </tr>\n",
       "    <tr>\n",
       "      <th>3</th>\n",
       "      <td>5665000</td>\n",
       "      <td>2005-01-04</td>\n",
       "      <td>63927</td>\n",
       "      <td>3645</td>\n",
       "      <td>1429</td>\n",
       "    </tr>\n",
       "    <tr>\n",
       "      <th>4</th>\n",
       "      <td>6005007</td>\n",
       "      <td>2005-01-04</td>\n",
       "      <td>18801</td>\n",
       "      <td>1056</td>\n",
       "      <td>1697</td>\n",
       "    </tr>\n",
       "  </tbody>\n",
       "</table>\n",
       "</div>"
      ],
      "text/plain": [
       "   payment_id        date  customer_id  employee_id  product_id\n",
       "0     8906138  2005-01-01        85480         3796         572\n",
       "1     2599735  2005-01-02        39288         1162        1593\n",
       "2     6679790  2005-01-03        99421         3383         937\n",
       "3     5665000  2005-01-04        63927         3645        1429\n",
       "4     6005007  2005-01-04        18801         1056        1697"
      ]
     },
     "execution_count": 71,
     "metadata": {},
     "output_type": "execute_result"
    }
   ],
   "source": [
    "payment_df.head()"
   ]
  },
  {
   "cell_type": "code",
   "execution_count": 72,
   "metadata": {},
   "outputs": [],
   "source": [
    "#adding the alochol price to the table\n",
    "\n",
    "query = '''\n",
    "select p1.*, p2.Price as Price\n",
    "from payment_df p1\n",
    "inner join product_df p2\n",
    "on p1.product_id = p2.product_id\n",
    "'''\n",
    "\n",
    "payment_df = sql(query)"
   ]
  },
  {
   "cell_type": "code",
   "execution_count": 74,
   "metadata": {},
   "outputs": [
    {
     "data": {
      "text/html": [
       "<div>\n",
       "<style scoped>\n",
       "    .dataframe tbody tr th:only-of-type {\n",
       "        vertical-align: middle;\n",
       "    }\n",
       "\n",
       "    .dataframe tbody tr th {\n",
       "        vertical-align: top;\n",
       "    }\n",
       "\n",
       "    .dataframe thead th {\n",
       "        text-align: right;\n",
       "    }\n",
       "</style>\n",
       "<table border=\"1\" class=\"dataframe\">\n",
       "  <thead>\n",
       "    <tr style=\"text-align: right;\">\n",
       "      <th></th>\n",
       "      <th>payment_id</th>\n",
       "      <th>date</th>\n",
       "      <th>customer_id</th>\n",
       "      <th>employee_id</th>\n",
       "      <th>product_id</th>\n",
       "      <th>Price</th>\n",
       "    </tr>\n",
       "  </thead>\n",
       "  <tbody>\n",
       "    <tr>\n",
       "      <th>0</th>\n",
       "      <td>8906138</td>\n",
       "      <td>2005-01-01</td>\n",
       "      <td>85480</td>\n",
       "      <td>3796</td>\n",
       "      <td>572</td>\n",
       "      <td>295.00</td>\n",
       "    </tr>\n",
       "    <tr>\n",
       "      <th>1</th>\n",
       "      <td>2599735</td>\n",
       "      <td>2005-01-02</td>\n",
       "      <td>39288</td>\n",
       "      <td>1162</td>\n",
       "      <td>1593</td>\n",
       "      <td>750.00</td>\n",
       "    </tr>\n",
       "    <tr>\n",
       "      <th>2</th>\n",
       "      <td>6679790</td>\n",
       "      <td>2005-01-03</td>\n",
       "      <td>99421</td>\n",
       "      <td>3383</td>\n",
       "      <td>937</td>\n",
       "      <td>299.00</td>\n",
       "    </tr>\n",
       "    <tr>\n",
       "      <th>3</th>\n",
       "      <td>5665000</td>\n",
       "      <td>2005-01-04</td>\n",
       "      <td>63927</td>\n",
       "      <td>3645</td>\n",
       "      <td>1429</td>\n",
       "      <td>57.95</td>\n",
       "    </tr>\n",
       "    <tr>\n",
       "      <th>4</th>\n",
       "      <td>6005007</td>\n",
       "      <td>2005-01-04</td>\n",
       "      <td>18801</td>\n",
       "      <td>1056</td>\n",
       "      <td>1697</td>\n",
       "      <td>1000.00</td>\n",
       "    </tr>\n",
       "  </tbody>\n",
       "</table>\n",
       "</div>"
      ],
      "text/plain": [
       "   payment_id        date  customer_id  employee_id  product_id    Price\n",
       "0     8906138  2005-01-01        85480         3796         572   295.00\n",
       "1     2599735  2005-01-02        39288         1162        1593   750.00\n",
       "2     6679790  2005-01-03        99421         3383         937   299.00\n",
       "3     5665000  2005-01-04        63927         3645        1429    57.95\n",
       "4     6005007  2005-01-04        18801         1056        1697  1000.00"
      ]
     },
     "execution_count": 74,
     "metadata": {},
     "output_type": "execute_result"
    }
   ],
   "source": [
    "payment_df.head()"
   ]
  }
 ],
 "metadata": {
  "kernelspec": {
   "display_name": "Python 3",
   "language": "python",
   "name": "python3"
  },
  "language_info": {
   "codemirror_mode": {
    "name": "ipython",
    "version": 3
   },
   "file_extension": ".py",
   "mimetype": "text/x-python",
   "name": "python",
   "nbconvert_exporter": "python",
   "pygments_lexer": "ipython3",
   "version": "3.8.5"
  }
 },
 "nbformat": 4,
 "nbformat_minor": 4
}
